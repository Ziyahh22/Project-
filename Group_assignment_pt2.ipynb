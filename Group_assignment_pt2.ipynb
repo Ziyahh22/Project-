{
  "nbformat": 4,
  "nbformat_minor": 0,
  "metadata": {
    "colab": {
      "name": "Group assignment pt2.ipynb",
      "provenance": [],
      "authorship_tag": "ABX9TyOyspkUhWliwgOxTHboH+KS",
      "include_colab_link": true
    },
    "kernelspec": {
      "name": "python3",
      "display_name": "Python 3"
    }
  },
  "cells": [
    {
      "cell_type": "markdown",
      "metadata": {
        "id": "view-in-github",
        "colab_type": "text"
      },
      "source": [
        "<a href=\"https://colab.research.google.com/github/Ziyahh22/Project-/blob/master/Group_assignment_pt2.ipynb\" target=\"_parent\"><img src=\"https://colab.research.google.com/assets/colab-badge.svg\" alt=\"Open In Colab\"/></a>"
      ]
    },
    {
      "cell_type": "markdown",
      "metadata": {
        "id": "r_VgpReDPzrY"
      },
      "source": [
        "The Entity Diagram is to highlight the interactions that happen in the Mall Of America and how they connect to one and another. The diagram will show multiple entities and attributes for each entity or in other words each concept that goes into a mall and its supporting details that describe each component. The first relationship is the mall to its attractions, which is a one to many relationships. One mall has up to 10 attractions inside. The mall table is also connected to the events table which is a zero to many relationships, one mall can have zero to 5 events on special occasions or holidays such as Christmas or Easter. Lastly, the mall is also connected to shops. The relationship is one too many because one mall can have one to 520 shops including food shops, clothing, and shoe shops. The shop entity is connected to the customer entity and has zero too many relationships. One shop can have zero to 20 customers, 20 customers might be low but in relation to the pandemic most stores will have a limit now and post-pandemic. Lastly, the customer entity table is connected to the order entity table. The relationship is one too many because only once a customer can have up to 10 orders which can be online orders or even in-person orders.\n",
        "\n",
        "\n"
      ]
    },
    {
      "cell_type": "markdown",
      "metadata": {
        "id": "mZLd38CRrSbx"
      },
      "source": [
        "![mall](https://raw.githubusercontent.com/Ziyahh22/Project-/master/GroupAssignment2.png)"
      ]
    }
  ]
}