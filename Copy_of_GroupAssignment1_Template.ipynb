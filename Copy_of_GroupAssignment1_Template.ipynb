{
  "nbformat": 4,
  "nbformat_minor": 0,
  "metadata": {
    "colab": {
      "name": "Copy of GroupAssignment1-Template.ipynb",
      "provenance": [],
      "collapsed_sections": [],
      "include_colab_link": true
    },
    "kernelspec": {
      "name": "python3",
      "display_name": "Python 3"
    }
  },
  "cells": [
    {
      "cell_type": "markdown",
      "metadata": {
        "id": "view-in-github",
        "colab_type": "text"
      },
      "source": [
        "<a href=\"https://colab.research.google.com/github/Ziyahh22/Project-/blob/master/Copy_of_GroupAssignment1_Template.ipynb\" target=\"_parent\"><img src=\"https://colab.research.google.com/assets/colab-badge.svg\" alt=\"Open In Colab\"/></a>"
      ]
    },
    {
      "cell_type": "markdown",
      "metadata": {
        "id": "UblhAIGuGF27",
        "colab_type": "text"
      },
      "source": [
        "# Mall Of America "
      ]
    },
    {
      "cell_type": "markdown",
      "metadata": {
        "id": "RlR0_Ol4GW3b",
        "colab_type": "text"
      },
      "source": [
        "### what is your idea?"
      ]
    },
    {
      "cell_type": "markdown",
      "metadata": {
        "id": "HU68Zv5MGY97",
        "colab_type": "text"
      },
      "source": [
        "To show the relationships between different areas through the mall of America.In the project we will highlight the consumer relationships between different stores throughout the mall."
      ]
    },
    {
      "cell_type": "markdown",
      "metadata": {
        "id": "45Q0PBrIGiIg",
        "colab_type": "text"
      },
      "source": [
        "### what makes it unique?"
      ]
    },
    {
      "cell_type": "markdown",
      "metadata": {
        "id": "8WOfTAuqGjoc",
        "colab_type": "text"
      },
      "source": [
        "The Mall of America has tons of different stores that you can choose from and millions of tourists around the world come to see the magnificent mall in all its glory. It is the biggest mall in America even with it's own ZIP code, and even has it's own theme park inside."
      ]
    },
    {
      "cell_type": "markdown",
      "metadata": {
        "id": "dVrktWdXGl19",
        "colab_type": "text"
      },
      "source": [
        "### is this a brand-new product or business, or are you borrowing from another business?"
      ]
    },
    {
      "cell_type": "markdown",
      "metadata": {
        "id": "MmGY0leUGnaN",
        "colab_type": "text"
      },
      "source": [
        "We are borrowing the existing business which is located in Bloomington, Minnesota. We are borrowing this business since it is a very unique business with its one-of-a-kind entities stored within."
      ]
    },
    {
      "cell_type": "markdown",
      "metadata": {
        "id": "k3oJzVDPGnws",
        "colab_type": "text"
      },
      "source": [
        "### describe a typical business interaction or a day at your business."
      ]
    },
    {
      "cell_type": "markdown",
      "metadata": {
        "id": "GeEKl-lUG1x5",
        "colab_type": "text"
      },
      "source": [
        "The customer has the option to either park in the East or West parking wing with the 12000+ parking spots on the premises. The customer then has the opportunity to go to any of the stores in the gigantic mall, or visit the Nickelodeon Universe amusement park. The customer has 520 stores to choose from, the biggest stores include a Nordstrom, Sears, Macy's and Bloomingdale's. After the shopper has finished shopping, they also have the option of 60 Restaurants to choose from to eat, and then will proceed to head home after their experience."
      ]
    },
    {
      "cell_type": "markdown",
      "metadata": {
        "id": "iUFoC5BuGpID",
        "colab_type": "text"
      },
      "source": [
        "### list your 5 entities/tables and for each, provide details about what data will be stored in the entities/tables."
      ]
    },
    {
      "cell_type": "markdown",
      "metadata": {
        "id": "AiZXrfSMGqZm",
        "colab_type": "text"
      },
      "source": [
        "*1*. Vistors \n",
        "\n",
        "-- This entity will provide information on the purchases customers make ,tourists(customers) and the pets customers come in with that come and go in the mall. \n",
        "\n",
        "2. Shopping \n",
        "\n",
        "-- This entity will provide information on the accesories, apparel, convenience and electronics all offered in the Mall Of America.\n",
        "\n",
        "3. Attractions \n",
        "\n",
        "-- This entity will include the aracade, XD&5D rides, mirror maze and the aquarium in the Mall Of America. \n",
        "\n",
        "4. Dinning \n",
        "\n",
        "-- This entity includes the restruants, food court. sweet&treats, and the cafe at the Mall Of America.\n",
        "\n",
        "5. Events \n",
        "\n",
        "-- This entity includes musical performances, new product launch, book signings, and celebrity apperances. "
      ]
    },
    {
      "cell_type": "markdown",
      "metadata": {
        "id": "h2mJWTewHLSn",
        "colab_type": "text"
      },
      "source": [
        "![Mall of America](https://raw.githubusercontent.com/Ziyahh22/Project-/master/tp1.png)"
      ]
    },
    {
      "cell_type": "markdown",
      "metadata": {
        "id": "WFQXwieoHiCe",
        "colab_type": "text"
      },
      "source": [
        "### provide a goal for your project "
      ]
    },
    {
      "cell_type": "markdown",
      "metadata": {
        "id": "TSpjF_4WXdL1",
        "colab_type": "text"
      },
      "source": [
        ""
      ]
    },
    {
      "cell_type": "markdown",
      "metadata": {
        "id": "cKmoiVHrHnHF",
        "colab_type": "text"
      },
      "source": [
        "The goal of this project to ehnace the knowledge of the consumer's relationship to the Mall Of America by creating a database. Also by showing this relationship we can understand the attributes and enities of what goes into having/or just being in a mall."
      ]
    }
  ]
}