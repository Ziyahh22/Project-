{
  "nbformat": 4,
  "nbformat_minor": 0,
  "metadata": {
    "colab": {
      "name": "Assignment3.ipynb",
      "provenance": [],
      "collapsed_sections": [],
      "include_colab_link": true
    },
    "kernelspec": {
      "name": "python3",
      "display_name": "Python 3"
    }
  },
  "cells": [
    {
      "cell_type": "markdown",
      "metadata": {
        "id": "view-in-github",
        "colab_type": "text"
      },
      "source": [
        "<a href=\"https://colab.research.google.com/github/Ziyahh22/Project-/blob/master/Assignment3.ipynb\" target=\"_parent\"><img src=\"https://colab.research.google.com/assets/colab-badge.svg\" alt=\"Open In Colab\"/></a>"
      ]
    },
    {
      "cell_type": "markdown",
      "metadata": {
        "id": "dwSc0r6yyEsY"
      },
      "source": [
        "![Assignment2](https://raw.githubusercontent.com/Ziyahh22/Project-/master/GroupAssignment2..1drawio.png)"
      ]
    },
    {
      "cell_type": "code",
      "metadata": {
        "colab": {
          "base_uri": "https://localhost:8080/",
          "height": 71
        },
        "id": "gJHwriM2OXgK",
        "outputId": "4253d032-faa9-47c7-b510-18c4c28d84f7"
      },
      "source": [
        "%load_ext sql\n",
        "%sql sqlite:///mall.db"
      ],
      "execution_count": 39,
      "outputs": [
        {
          "output_type": "stream",
          "text": [
            "The sql extension is already loaded. To reload it, use:\n",
            "  %reload_ext sql\n"
          ],
          "name": "stdout"
        },
        {
          "output_type": "execute_result",
          "data": {
            "application/vnd.google.colaboratory.intrinsic+json": {
              "type": "string"
            },
            "text/plain": [
              "'Connected: @mall.db'"
            ]
          },
          "metadata": {
            "tags": []
          },
          "execution_count": 39
        }
      ]
    },
    {
      "cell_type": "code",
      "metadata": {
        "id": "Q6ZEMnfGQRuq",
        "colab": {
          "base_uri": "https://localhost:8080/"
        },
        "outputId": "1560b346-fb9a-4c6f-91a7-fa94ee1aa2da"
      },
      "source": [
        "%%sql  \n",
        "DROP TABLE IF EXISTS Mall;\n",
        "create table Mall (MallID text PRIMARY KEY, Name text, Street text, City text, Zip text, State text, Shop text, Attraction text, Event text);\n",
        "\n",
        "DROP table IF EXISTS Shop;\n",
        "create table Shop (ShopID text PRIMARY KEY, Name text, Location text, Type text, Transactions text, OpenHours text);\n",
        "\n",
        "DROP table IF EXISTS Attraction;\n",
        "create table Attraction (AttractionID text PRIMARY KEY, Name text, Location text, Type text, OpenHours text);\n",
        "\n",
        "DROP table IF EXISTS Transactions;\n",
        "create table Transactions (TransactionID text PRIMARY KEY, Date text, Satus text, Price real, Type text, Orders text);\n",
        "\n",
        "DROP TABLE IF EXISTS Buyer;\n",
        "create table Buyer (BuyerID text PRIMARY KEY, FirstName text, LastName text, DOB text, Street text, Zip text, City text, State text, Email text, Orders text);\n",
        "\n",
        "DROP TABLE IF EXISTS Event;\n",
        "create table Event (EventID text PRIMARY KEY, Name text, Date text, Time text, Location text, Type text);\n"
      ],
      "execution_count": 81,
      "outputs": [
        {
          "output_type": "stream",
          "text": [
            " * sqlite:///mall.db\n",
            "Done.\n",
            "Done.\n",
            "Done.\n",
            "Done.\n",
            "Done.\n",
            "Done.\n",
            "Done.\n",
            "Done.\n",
            "Done.\n",
            "Done.\n",
            "Done.\n",
            "Done.\n"
          ],
          "name": "stdout"
        },
        {
          "output_type": "execute_result",
          "data": {
            "text/plain": [
              "[]"
            ]
          },
          "metadata": {
            "tags": []
          },
          "execution_count": 81
        }
      ]
    },
    {
      "cell_type": "code",
      "metadata": {
        "colab": {
          "base_uri": "https://localhost:8080/"
        },
        "id": "xz5-81__jjcR",
        "outputId": "45b03812-acde-436f-907e-d2f2dada45f7"
      },
      "source": [
        "%%sql \n",
        "DROP TABLE IF EXISTS Orders;\n",
        "create table Orders (TransactionID text, BuyerID text, PRIMARY KEY (TransactionID, BuyerID));"
      ],
      "execution_count": 41,
      "outputs": [
        {
          "output_type": "stream",
          "text": [
            " * sqlite:///mall.db\n",
            "Done.\n",
            "Done.\n"
          ],
          "name": "stdout"
        },
        {
          "output_type": "execute_result",
          "data": {
            "text/plain": [
              "[]"
            ]
          },
          "metadata": {
            "tags": []
          },
          "execution_count": 41
        }
      ]
    },
    {
      "cell_type": "code",
      "metadata": {
        "id": "o7EoOSix_WPb"
      },
      "source": [
        "%%sql\n",
        "INSERT INTO Mall VALUES('8015', 'Mall Of America', '60EBroadway', 'Bloomington', '55425', 'Minnesota','100', '20','15');\n",
        "\n",
        "INSERT INTO Shop VALUES ('9843', 'Abercrombie&Fitch', 'A2', 'Clothing', '1457', '11-8');\n",
        "INSERT INTO Shop VALUES ('5467', 'American Eagle', 'E3', 'Clothing', '2098', '11-8');\n",
        "INSERT INTO Shop VALUES ('8545', 'Rio cafe', 'B6', 'Food', '5687', '11-8');\n",
        "INSERT INTO Shop VALUES ('3425', 'Apple', 'D4', 'Tech', '4365', '11-8');\n",
        "INSERT INTO Shop VALUES ('3425', 'Starbucks cafe', 'D2', 'Food', '4345', '11-8');\n",
        "INSERT INTO Shop VALUES ('7547', 'Disney', 'E5', 'Clothing & Acessories', '2365', '11-8');\n",
        "\n",
        "INSERT INTO Attraction VALUES('3142','Nickelodeon Universe', 'A1', 'Theme Park', '11-8');\n",
        "INSERT INTO Attraction VALUES('4356','The Escape Game', 'B1', 'Attraction', '11-10');\n",
        "INSERT INTO Attraction VALUES('8765','Amazing Mirror Maze', 'C1', 'Attraction', '11-11');\n",
        "INSERT INTO Attraction VALUES('9674','House of Comedy', 'D1', 'Attraction', '11-7');\n",
        "INSERT INTO Attraction VALUES('3521','Sea Life Minnesota Aquarium', 'A1', 'Attraction', '11-8');\n",
        "\n",
        "INSERT INTO Transactions VALUES ('12345789', '2020-10-10', 'entered', 30, 'jean', '1236540');\n",
        "INSERT INTO Transactions VALUES ('65486523', '2020-10-21', 'entered', 80, 'jacket', '1654340');\n",
        "INSERT INTO Transactions VALUES ('65162129', '2020-11-13', 'entered', 15, 'shoes', '1981740');\n",
        "INSERT INTO Transactions VALUES ('15189454', '2020-09-20', 'entered', 20, 'shirt', '9846560');\n",
        "INSERT INTO Transactions VALUES ('32151323', '2020-11-16', 'entered', 20, 'candle', '1651480');\n",
        "\n",
        "INSERT INTO Orders VALUES ('JVC', '1236540');\n",
        "INSERT INTO Orders VALUES ('ADC', '1654340');\n",
        "INSERT INTO Orders VALUES ('QEW', '1981740');\n",
        "INSERT INTO Orders VALUES ('LKD', '9846560');\n",
        "INSERT INTO Orders VALUES ('ODJ', '1651480');\n",
        "\n",
        "INSERT INTO Buyer VALUES('902345', 'John', 'Smith', '8/13/86', 'Livingston Street', '14536', 'Mariot', 'Tennesee', 'johnsmith@gmail.com', 'Jeans');\n",
        "INSERT INTO Buyer VALUES('902346', 'Carrie', 'Smith', '4/23/86', 'Livingston Street', '14536', 'Mariot', 'Tennesee', 'carriesmith@gmail.com', 'Candles');\n",
        "INSERT INTO Buyer VALUES('902234', 'Rafe', 'Mathis', '1/03/90', 'McMurray Street', '15637', 'Vermouth', 'Maryland', 'rafemathis@gmail.com', 'Tshirt Bundle');\n",
        "INSERT INTO Buyer VALUES('902345', 'Lorna', 'Oleson', '3/21/87', 'James Street', '12431', 'Gerome', 'Ohio', 'lornaoleson@gmail.com', 'Food');\n",
        "INSERT INTO Buyer VALUES('902345', 'Horna', 'Oleson', '9/26/84', 'James Street', '12431', 'Gerome', 'Ohio', 'hornaoleson@gmail.com', 'Phone');\n",
        "\n",
        "INSERT INTO Event VALUES('3541', 'Santa Pictures', '2020-12-01', '11:00', 'A1', 'Event');\n",
        "INSERT INTO Event VALUES('4231', 'Easter Bunny Pictures', '2020-04-01', '11:00', 'A1', 'Event');\n",
        "INSERT INTO Event VALUES('2415', 'Train Ride', '2020-10-06', '1:00', 'A1', 'Event');\n",
        "INSERT INTO Event VALUES('4563', 'Food Drive', '2020-9-20', '3:00', 'A1', 'Event');\n",
        "INSERT INTO Event VALUES('7634', 'Movie Night', '2020-07-30', '10:00', 'A1', 'Event');"
      ],
      "execution_count": null,
      "outputs": []
    },
    {
      "cell_type": "code",
      "metadata": {
        "colab": {
          "base_uri": "https://localhost:8080/",
          "height": 158
        },
        "id": "1AFkeWCv2bNS",
        "outputId": "0fe26131-b695-4fcf-d0f3-d915865060c4"
      },
      "source": [
        "%%sql\n",
        "SELECT Name, Date, Location FROM Event WHERE Date < \"2020-12-31\""
      ],
      "execution_count": 106,
      "outputs": [
        {
          "output_type": "stream",
          "text": [
            " * sqlite:///mall.db\n",
            "Done.\n"
          ],
          "name": "stdout"
        },
        {
          "output_type": "execute_result",
          "data": {
            "text/html": [
              "<table>\n",
              "    <tr>\n",
              "        <th>Name</th>\n",
              "        <th>Date</th>\n",
              "        <th>Location</th>\n",
              "    </tr>\n",
              "    <tr>\n",
              "        <td>Santa Pictures</td>\n",
              "        <td>2020-12-01</td>\n",
              "        <td>A1</td>\n",
              "    </tr>\n",
              "    <tr>\n",
              "        <td>Easter Bunny Pictures</td>\n",
              "        <td>2020-04-01</td>\n",
              "        <td>A1</td>\n",
              "    </tr>\n",
              "    <tr>\n",
              "        <td>Train Ride</td>\n",
              "        <td>2020-10-06</td>\n",
              "        <td>A1</td>\n",
              "    </tr>\n",
              "    <tr>\n",
              "        <td>Movie Night</td>\n",
              "        <td>2020-07-30</td>\n",
              "        <td>A1</td>\n",
              "    </tr>\n",
              "</table>"
            ],
            "text/plain": [
              "[('Santa Pictures', '2020-12-01', 'A1'),\n",
              " ('Easter Bunny Pictures', '2020-04-01', 'A1'),\n",
              " ('Train Ride', '2020-10-06', 'A1'),\n",
              " ('Movie Night', '2020-07-30', 'A1')]"
            ]
          },
          "metadata": {
            "tags": []
          },
          "execution_count": 106
        }
      ]
    },
    {
      "cell_type": "code",
      "metadata": {
        "colab": {
          "base_uri": "https://localhost:8080/",
          "height": 179
        },
        "id": "LBJHn_c08-_O",
        "outputId": "642bb860-4f60-4131-f106-56aeed0c72c5"
      },
      "source": [
        "%%sql\n",
        "SELECT Name FROM Attraction"
      ],
      "execution_count": 101,
      "outputs": [
        {
          "output_type": "stream",
          "text": [
            " * sqlite:///mall.db\n",
            "Done.\n"
          ],
          "name": "stdout"
        },
        {
          "output_type": "execute_result",
          "data": {
            "text/html": [
              "<table>\n",
              "    <tr>\n",
              "        <th>Name</th>\n",
              "    </tr>\n",
              "    <tr>\n",
              "        <td>Nickelodeon Universe</td>\n",
              "    </tr>\n",
              "    <tr>\n",
              "        <td>The Escape Game</td>\n",
              "    </tr>\n",
              "    <tr>\n",
              "        <td>Amazing Mirror Maze</td>\n",
              "    </tr>\n",
              "    <tr>\n",
              "        <td>House of Comedy</td>\n",
              "    </tr>\n",
              "    <tr>\n",
              "        <td>Sea Life Minnesota Aquarium</td>\n",
              "    </tr>\n",
              "</table>"
            ],
            "text/plain": [
              "[('Nickelodeon Universe',),\n",
              " ('The Escape Game',),\n",
              " ('Amazing Mirror Maze',),\n",
              " ('House of Comedy',),\n",
              " ('Sea Life Minnesota Aquarium',)]"
            ]
          },
          "metadata": {
            "tags": []
          },
          "execution_count": 101
        }
      ]
    },
    {
      "cell_type": "code",
      "metadata": {
        "colab": {
          "base_uri": "https://localhost:8080/",
          "height": 95
        },
        "id": "R5Vafu1a2b0p",
        "outputId": "ab033d9c-f348-407f-9773-bcdd275214d4"
      },
      "source": [
        "%%sql\n",
        "SELECT DISTINCT (NAME) FROM Shop WHERE Name LIKE \"%cafe\""
      ],
      "execution_count": 102,
      "outputs": [
        {
          "output_type": "stream",
          "text": [
            " * sqlite:///mall.db\n",
            "Done.\n"
          ],
          "name": "stdout"
        },
        {
          "output_type": "execute_result",
          "data": {
            "text/html": [
              "<table>\n",
              "    <tr>\n",
              "        <th>Name</th>\n",
              "    </tr>\n",
              "    <tr>\n",
              "        <td>Rio cafe</td>\n",
              "    </tr>\n",
              "</table>"
            ],
            "text/plain": [
              "[('Rio cafe',)]"
            ]
          },
          "metadata": {
            "tags": []
          },
          "execution_count": 102
        }
      ]
    },
    {
      "cell_type": "markdown",
      "metadata": {
        "id": "icjX1DbuuZEM"
      },
      "source": [
        "3 Questions:\n",
        "1. List names of attractions in mall\n",
        "2. Find shops that have the name \"cafe\"\n",
        "3. List name, date, location of events that are opening before 2020-12-31\n",
        "\n",
        "The first question gives the names of attractions. The visitors would want to know what attractions are in the mall. The second question tells us which cafes are in the mall, if visitors want to find cafes. The third question provides information about events that are opening before 2020-12-31, so the visitors can find which events they want to attend and see."
      ]
    }
  ]
}